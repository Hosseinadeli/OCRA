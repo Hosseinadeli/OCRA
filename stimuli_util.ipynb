{
 "cells": [
  {
   "cell_type": "markdown",
   "metadata": {},
   "source": [
    "# Generating dataset for multimnist and multimnis_cluttered dataset\n",
    "This notebook shows how to generate the train and test set for the multimnist and multimnist_cluttered tasks"
   ]
  },
  {
   "cell_type": "code",
   "execution_count": 1,
   "metadata": {},
   "outputs": [],
   "source": [
    "%matplotlib inline \n",
    "import matplotlib.pyplot as plt\n",
    "\n",
    "import torch\n",
    "from torchvision import transforms, datasets\n",
    "import copy\n",
    "import os\n",
    "from tqdm.notebook import tqdm\n",
    "import numpy as np \n",
    "from numpy import random\n",
    "np.set_printoptions(suppress=True)\n",
    "\n",
    "\n",
    "def generate_displays(args, train, train_val_split='None'):\n",
    "    \"\"\"\n",
    "    This function generates multi digit mnist displays with different levels of overlap and clutter \n",
    "    \n",
    "    args: arguments generated from args_stru below\n",
    "    train: if true, download the mnist train dataset, or test set\n",
    "    train_val_split: \n",
    "        - if 'train', use only 90 percent of the mnist training images for creating the training data, \n",
    "        - if 'val', use the ramaining 10 percent of the mnist training images for creating the validation data.\n",
    "        \n",
    "    General Procedure \n",
    "    1) Randomly sample args.num_objects (e.g.,2) images and create one overlapping image (max distance btw centers are 2*args.object_shift_lim)\n",
    "    : sample more images than needed first, e.g., 4*(args.num_objects) images, in case some objects discarded to avoid having duplicates \n",
    "    2) Randomly sample args.clutter_pieces (e.g.,6) images and randomly crop the parts. Add these parts into randomly selected location. \n",
    "    \n",
    "    \"\"\"\n",
    "    \n",
    "    # original mnist download\n",
    "    im_set = datasets.MNIST(args.data_dir,train=train, download=args.download)\n",
    "    \n",
    "    if train_val_split == 'train': # get train split range\n",
    "        data_range = [0, int(.9*len(im_set))]\n",
    "    elif train_val_split == 'val': # get val split range\n",
    "        data_range = [int(.9*len(im_set)), len(im_set)]\n",
    "    else: # get entire dataset range\n",
    "        data_range = [0, len(im_set)]\n",
    "\n",
    "\n",
    "    # sample image indices for creating overlapping objects and clutter pieces\n",
    "    # e.g., (60000, 50, 14)\n",
    "    all_pairs = random.choice(range(data_range[0], data_range[1]), \n",
    "                              (data_range[1]-data_range[0], args.trials_per_im, 4*args.num_objects+ args.clutter_pieces))\n",
    "\n",
    "    # sample each object's shift-from-the-center (x/y directions) \n",
    "    all_shifts = random.choice(range(-args.object_shift_lim, 1+args.object_shift_lim), \n",
    "                               (data_range[1]-data_range[0], args.trials_per_im, 4*args.num_objects, 2))      \n",
    "\n",
    "    # sample cropping region (upper-left corner coordinates x,y) \n",
    "    all_crops = random.choice(range(0, args.obj_dim[0]-args.clutter_dim[0]),\n",
    "                              (data_range[1]-data_range[0], args.trials_per_im, args.clutter_pieces, 2)) \n",
    "    \n",
    "    # sample each cluttered piece's shift-from-the-center (x/y directions) \n",
    "    crop_shifts = random.choice(range(-args.clutter_shift_lim, 1+args.clutter_shift_lim), \n",
    "                                (data_range[1]-data_range[0], args.trials_per_im, args.clutter_pieces, 2))\n",
    "    \n",
    "\n",
    "    # lists for storing created images and ys\n",
    "    ims = []\n",
    "    ys = []\n",
    "    \n",
    "    for p in tqdm(range(all_pairs.shape[0])):\n",
    "        \n",
    "        for t_per_im in range(args.trials_per_im):\n",
    "\n",
    "            # the orig image indices for this trial \n",
    "            ps =  all_pairs[p][t_per_im]\n",
    "            \n",
    "            # the object shifts for this trial  \n",
    "            locs = all_shifts[p][t_per_im]\n",
    "            \n",
    "            # im will keep each object and clutter piece in a different dimension \n",
    "            blank = np.zeros((args.num_objects+args.clutter_pieces,args.im_d[0],args.im_d[1]))\n",
    "            im = copy.deepcopy(blank)\n",
    "            \n",
    "            im_center = np.ceil(im.shape[-1]/2)     \n",
    "            x_center = np.ceil(args.obj_dim[0] / 2) # 14 for mnist \n",
    "            \n",
    "            y = []\n",
    "            new_o = 0  # keep track of how many objects are added to the display and terminate if hit the limit\n",
    "            \n",
    "            for o in range(4*args.num_objects):\n",
    "\n",
    "                y_ = copy.deepcopy(im_set[ps[o]][1])\n",
    "                \n",
    "                # if cat_dup is not allowed, check to see if y_ is already there, if yes, then continue to the next obj\n",
    "                if not args.cat_dup:\n",
    "                    if y_ in y:\n",
    "                        continue \n",
    "                        \n",
    "                # append this y to list          \n",
    "                y.append(y_)\n",
    "\n",
    "                # the shifts for this specific object \n",
    "                loc = locs[o]\n",
    "                \n",
    "                # the image \n",
    "                x = copy.deepcopy(np.asarray(im_set[ps[o]][0]))\n",
    "                \n",
    "                # find the upper left corners and place the image one the bigger canvas in its dimension \n",
    "                corner_row = int(loc[0] + im_center - x_center)\n",
    "                corner_col = int(loc[1] + im_center - x_center )\n",
    "                im[new_o,corner_row:corner_row+x.shape[0],corner_col:corner_col+x.shape[1]] = x \n",
    "                # alternatvely we can just add them up to not keep everthing separate \n",
    "                # im[corner_row:corner_row+x.shape[0],corner_col:corner_col+x.shape[1],1] = \\\n",
    "                #                       im[corner_row:corner_row+x.shape[0],corner_col:corner_col+x.shape[1]] + x\n",
    "                \n",
    "                # terminate the loop if we reach the total of number of objects in this trial \n",
    "                new_o = new_o + 1\n",
    "                if args.num_objects == new_o:\n",
    "                    break\n",
    "                    \n",
    "\n",
    "            # turn y one-hot, if cat_dup is allowed, then there will be 2 ones in y_c\n",
    "            y = np.array(y)\n",
    "            y_c = np.zeros((y.size, args.n_classes))\n",
    "            y_c[np.arange(y.size),y] = 1\n",
    "            #y = np.sum(y_c,axis=0)\n",
    "    \n",
    "    \n",
    "            loc_crop = all_crops[p][t_per_im]\n",
    "            shift_crop = crop_shifts[p][t_per_im]\n",
    "            crop_center = 4\n",
    "            \n",
    "            for o in range(args.clutter_pieces):  \n",
    "                # note that the first 4*args.num_objects were reserved for the objects so the clutter pieces are selected after that\n",
    "                x = np.asarray(im_set[ps[4*args.num_objects+o]][0])\n",
    "                # crop image\n",
    "                x = x[loc_crop[o][0]:loc_crop[o][0]+8, loc_crop[o][1]:loc_crop[o][1]+8]\n",
    "                \n",
    "                # get location of cropped pieces\n",
    "                loc = shift_crop[o]\n",
    "                corner_row = int(loc[0] + im_center - crop_center)\n",
    "                corner_col = int(loc[1] + im_center - crop_center)\n",
    "                \n",
    "                # add cropped pieces to locations \n",
    "                im[args.num_objects+o, corner_row:corner_row+x.shape[0], corner_col:corner_col+x.shape[1]] = x\n",
    "                #im[corner_row:corner_row+x.shape[0],corner_col:corner_col+x.shape[1]] = x # np.expand_dims(x,-1)\n",
    "#                 im[corner_row:corner_row+x.shape[0],corner_col:corner_col+x.shape[1]] = \\\n",
    "#                                       im[corner_row:corner_row+x.shape[0],corner_col:corner_col+x.shape[1]] + x\n",
    "\n",
    "\n",
    "            if args.turn_y_onehot:\n",
    "                ys.append(y_c)\n",
    "            else:\n",
    "                ys.append(y)\n",
    "    \n",
    "            if args.add_diff_layers:\n",
    "                im = np.sum(im, axis=0, keepdims=True)\n",
    "            ims.append(im) #np.expand_dims(im, axis=1))\n",
    "            \n",
    "    return ims, ys"
   ]
  },
  {
   "cell_type": "markdown",
   "metadata": {},
   "source": [
    "## Generate MultiMNIST"
   ]
  },
  {
   "cell_type": "code",
   "execution_count": null,
   "metadata": {},
   "outputs": [],
   "source": [
    "class args_stru:\n",
    "    def __init__(self):\n",
    "        \n",
    "        # dataset info and save directory\n",
    "        self.data_name = 'mnist'\n",
    "        self.download = True # If true, downloads the dataset from the internet and puts it in root directory. If dataset is already downloaded, it is not downloaded again.\n",
    "        self.n_classes = 10\n",
    "        self.obj_dim = (28,28)  # the size of an mnist image\n",
    "        \n",
    "        self.data_dir = './data' # root data directory where images are downloaded to.       \n",
    "        if not os.path.exists(self.data_dir):\n",
    "            os.makedirs(self.data_dir)\n",
    "            \n",
    "        self.save_dir = self.data_dir + '/multimnist/' # directory where final multimnist datasets are saved to\n",
    "        \n",
    "        # params for multimnist dataset creation \n",
    "        self.trials_per_im = 10  # how many new images created for each image in the dataset; 50 is used to generate the dataset in the article\n",
    "        self.num_objects = 2 # how many objects in each image\n",
    "        self.cat_dup = False # whether multiple objects could be from the same category \n",
    "        self.im_d =(36,36) # size of the resulting image \n",
    "        \n",
    "        self.turn_y_onehot = True # whether to turn the true y one_hot or keep as the category index \n",
    "        self.add_diff_layers = True # whether to add different layers of the image and clutter to form a 1 d tensor for the resulting image \n",
    "        \n",
    "        # set overlapping degree \n",
    "        self.high_overlap = True # if true, object_shift_lim = 4 was used in the paper, which makes 20-28 pixels overlapped  \n",
    "        self.object_shift_lim_max = int(self.im_d[0]/2 - np.ceil(self.obj_dim[0] / 2)) # largest possible shift lim\n",
    "    \n",
    "        if self.high_overlap: \n",
    "            self.object_shift_lim  = 4  # up to how many pixels can each object center shifts from the image center (smaller shift, larger overlap)\n",
    "        else: \n",
    "            # otherwise, the shifts would be as much as allowed from the orig and final image sizes \n",
    "            self.object_shift_lim  =  self.object_shift_lim_max\n",
    "        \n",
    "        # set clutteredness\n",
    "        self.clutter_pieces = 0  # how many clutter pieces\n",
    "        self.clutter_dim = (8,8) # size of the clutter pieces \n",
    "        self.clutter_shift_lim = int(self.im_d[0]/2 - np.ceil(self.clutter_dim[0] / 2))   # up to how many pixels can the clutter pieces shift from the center\n",
    "\n",
    "        \n",
    "args = args_stru()\n",
    "\n",
    "print(\"generate train dataset...\")\n",
    "train_ims, train_ys = generate_displays(args, train=True)  #, train_val_split='none'\n",
    "tensor_train_ims = torch.Tensor(train_ims)/255 # transform to torch tensor\n",
    "tensor_train_ims = torch.clip(torch.sum(tensor_train_ims, dim=1, keepdim=True),0, 1)\n",
    "tensor_train_ys = torch.sum(torch.Tensor(train_ys), dim=1)\n",
    "#tensor_train_ys = torch.Tensor(train_ys)\n",
    "\n",
    "# val_ims, val_ys = generate_displays(args, train=True, train_val_split='val')\n",
    "# tensor_val_ims = torch.Tensor(val_ims)/255 # transform to torch tensor\n",
    "# tensor_val_ims = torch.clip(torch.sum(tensor_val_ims, dim=1, keepdim=True),0, 1)\n",
    "# tensor_val_ys = torch.sum(torch.Tensor(val_ys), dim=1)\n",
    "\n",
    "# tensor_train_ims = torch.cat((tensor_train_ims,tensor_val_ims),dim=0)\n",
    "# tensor_train_ys = torch.cat((tensor_train_ys,tensor_val_ys),dim=0)\n",
    "\n",
    "print(\"generate test dataset...\")\n",
    "test_ims, test_ys = generate_displays(args, train=False)\n",
    "tensor_test_ims = torch.Tensor(test_ims)/255 # transform to torch tensor\n",
    "tensor_test_ims = torch.clip(torch.sum(tensor_test_ims, dim=1, keepdim=True),0, 1)\n",
    "tensor_test_ys = torch.sum(torch.Tensor(test_ys), dim=1)\n",
    "#tensor_test_ys = torch.Tensor(test_ys)\n",
    "\n",
    "print(tensor_train_ims.shape)\n",
    "print(tensor_test_ys.shape)"
   ]
  },
  {
   "cell_type": "markdown",
   "metadata": {},
   "source": [
    "### visualize data"
   ]
  },
  {
   "cell_type": "code",
   "execution_count": 3,
   "metadata": {},
   "outputs": [
    {
     "name": "stdout",
     "output_type": "stream",
     "text": [
      "tensor([1., 0., 1., 0., 0., 0., 0., 0., 0., 0.])\n"
     ]
    },
    {
     "data": {
      "image/png": "[encoded data removed]",
      "text/plain": [
       "<Figure size 432x288 with 1 Axes>"
      ]
     },
     "metadata": {
      "needs_background": "light"
     },
     "output_type": "display_data"
    },
    {
     "name": "stdout",
     "output_type": "stream",
     "text": [
      "-----------------\n",
      "tensor([0., 0., 1., 0., 0., 1., 0., 0., 0., 0.])\n"
     ]
    },
    {
     "data": {
      "image/png": "[encoded data removed]",
      "text/plain": [
       "<Figure size 432x288 with 1 Axes>"
      ]
     },
     "metadata": {
      "needs_background": "light"
     },
     "output_type": "display_data"
    },
    {
     "name": "stdout",
     "output_type": "stream",
     "text": [
      "-----------------\n",
      "tensor([0., 0., 1., 0., 0., 0., 0., 1., 0., 0.])\n"
     ]
    },
    {
     "data": {
      "image/png": "[encoded data removed]",
      "text/plain": [
       "<Figure size 432x288 with 1 Axes>"
      ]
     },
     "metadata": {
      "needs_background": "light"
     },
     "output_type": "display_data"
    },
    {
     "name": "stdout",
     "output_type": "stream",
     "text": [
      "-----------------\n",
      "tensor([0., 0., 0., 0., 1., 1., 0., 0., 0., 0.])\n"
     ]
    },
    {
     "data": {
      "image/png": "[encoded data removed]",
      "text/plain": [
       "<Figure size 432x288 with 1 Axes>"
      ]
     },
     "metadata": {
      "needs_background": "light"
     },
     "output_type": "display_data"
    },
    {
     "name": "stdout",
     "output_type": "stream",
     "text": [
      "-----------------\n",
      "tensor([0., 0., 0., 0., 0., 1., 0., 1., 0., 0.])\n"
     ]
    },
    {
     "data": {
      "image/png": "[encoded data removed]",
      "text/plain": [
       "<Figure size 432x288 with 1 Axes>"
      ]
     },
     "metadata": {
      "needs_background": "light"
     },
     "output_type": "display_data"
    },
    {
     "name": "stdout",
     "output_type": "stream",
     "text": [
      "-----------------\n"
     ]
    }
   ],
   "source": [
    "for i in range(5):\n",
    "    plt.imshow(np.squeeze(tensor_train_ims[i]))\n",
    "    print(tensor_train_ys[i])\n",
    "    plt.show()\n",
    "    print('-----------------')"
   ]
  },
  {
   "cell_type": "markdown",
   "metadata": {},
   "source": [
    "### save as pytorch data file "
   ]
  },
  {
   "cell_type": "code",
   "execution_count": 4,
   "metadata": {},
   "outputs": [],
   "source": [
    "if not os.path.isdir(args.save_dir):\n",
    "    os.makedirs(args.save_dir)\n",
    "\n",
    "if args.cat_dup:\n",
    "    DUP = 'dup'\n",
    "else: DUP = 'nodup'\n",
    "\n",
    "torch.save((tensor_train_ims, tensor_train_ys), args.save_dir + \n",
    "           f'mnist_overlap{args.object_shift_lim}pix_{DUP}_{args.trials_per_im}fold_{args.im_d[0]}_train.pt')\n",
    "###torch.save((tensor_val_ims, tensor_val_ys), repo_dir+'MNIST_overlap/mnist_overlap4pix_nodup_20fold_36_val.pt')\n",
    "torch.save((tensor_test_ims, tensor_test_ys), args.save_dir + \n",
    "            f'mnist_overlap{args.object_shift_lim}pix_{DUP}_{args.trials_per_im}fold_{args.im_d[0]}_test.pt')"
   ]
  },
  {
   "cell_type": "markdown",
   "metadata": {},
   "source": [
    "### save as numpy .npz file"
   ]
  },
  {
   "cell_type": "code",
   "execution_count": 5,
   "metadata": {},
   "outputs": [],
   "source": [
    "if not os.path.isdir(args.save_dir):\n",
    "    os.makedirs(args.save_dir)\n",
    "\n",
    "if args.cat_dup:\n",
    "    DUP = 'dup'\n",
    "else: DUP = 'nodup'\n",
    "\n",
    "tensor_train_ims = tensor_train_ims.numpy()\n",
    "tensor_train_ys = tensor_train_ys.numpy()\n",
    "\n",
    "tensor_test_ims = tensor_test_ims.numpy()\n",
    "tensor_test_ys  = tensor_test_ys.numpy()\n",
    "\n",
    "np.savez(args.save_dir + f'mnist_overlap{args.object_shift_lim}pix_{DUP}_{args.trials_per_im}fold_{args.im_d[0]}_train.npz', \\\n",
    "         tensor_train_ims=tensor_train_ims, tensor_train_ys=tensor_train_ys)\n",
    "\n",
    "np.savez(args.save_dir +  f'mnist_overlap{args.object_shift_lim}pix_{DUP}_{args.trials_per_im}fold_{args.im_d[0]}_test.npz', \\\n",
    "         tensor_test_ims=tensor_test_ims, tensor_test_ys=tensor_test_ys)"
   ]
  },
  {
   "cell_type": "markdown",
   "metadata": {},
   "source": [
    "## Generate MultiMNIST_Cluttered"
   ]
  },
  {
   "cell_type": "code",
   "execution_count": 9,
   "metadata": {},
   "outputs": [
    {
     "data": {
      "application/vnd.jupyter.widget-view+json": {
       "model_id": "3151be3e3d284ec6b5aa7729e9ab5eaa",
       "version_major": 2,
       "version_minor": 0
      },
      "text/plain": [
       "  0%|          | 0/54000 [00:00<?, ?it/s]"
      ]
     },
     "metadata": {},
     "output_type": "display_data"
    },
    {
     "data": {
      "application/vnd.jupyter.widget-view+json": {
       "model_id": "a5b423453d4e4dcd87976dcf753b6d41",
       "version_major": 2,
       "version_minor": 0
      },
      "text/plain": [
       "  0%|          | 0/6000 [00:00<?, ?it/s]"
      ]
     },
     "metadata": {},
     "output_type": "display_data"
    },
    {
     "data": {
      "application/vnd.jupyter.widget-view+json": {
       "model_id": "a2ae66366b134d8b8ee61bee2f22cf8d",
       "version_major": 2,
       "version_minor": 0
      },
      "text/plain": [
       "  0%|          | 0/10000 [00:00<?, ?it/s]"
      ]
     },
     "metadata": {},
     "output_type": "display_data"
    },
    {
     "name": "stdout",
     "output_type": "stream",
     "text": [
      "torch.Size([180000, 1, 100, 100])\n",
      "torch.Size([30000, 10])\n"
     ]
    }
   ],
   "source": [
    "class args_stru:\n",
    "    def __init__(self):\n",
    "        \n",
    "        # dataset info and save directory\n",
    "        self.data_name = 'mnist'\n",
    "        self.download = True # If true, downloads the dataset from the internet and puts it in root directory. If dataset is already downloaded, it is not downloaded again.\n",
    "        self.n_classes = 10\n",
    "        self.obj_dim = (28,28)  # the size of an mnist image\n",
    "        \n",
    "        self.data_dir = './data' # root data directory where images are downloaded to.       \n",
    "        if not os.path.exists(self.data_dir):\n",
    "            os.makedirs(self.data_dir)\n",
    "            \n",
    "        self.save_dir = self.data_dir + '/multimnist/' # directory where final multimnist datasets are saved to\n",
    "        \n",
    "        # params for multimnist dataset creation \n",
    "        self.trials_per_im = 1  # how many new images created for each image in the dataset; 3 is used to generate the dataset in the article\n",
    "        self.num_objects = 2 # how many objects in each image\n",
    "        self.cat_dup = True # whether multiple objects could be from the same category \n",
    "        self.im_d =(100,100) # size of the resulting image \n",
    "        \n",
    "        self.turn_y_onehot = True # whether to turn the true y one_hot or keep as the category index \n",
    "        self.add_diff_layers = True # whether to add different layers of the image and clutter to form a 1 d tensor for the resulting image \n",
    "        \n",
    "        # set overlapping degree \n",
    "        self.high_overlap = False # if true, object_shift_lim = 4 was used in the paper, which makes 20-28 pixels overlapped  \n",
    "        self.object_shift_lim_max = int(self.im_d[0]/2 - np.ceil(self.obj_dim[0] / 2)) # largest possible shift lim\n",
    "    \n",
    "        if self.high_overlap: \n",
    "            self.object_shift_lim  = 4  # up to how many pixels can each object center shifts from the image center (smaller shift, larger overlap)\n",
    "        else: \n",
    "            # otherwise, the shifts would be as much as allowed from the orig and final image sizes \n",
    "            self.object_shift_lim  =  self.object_shift_lim_max\n",
    "        \n",
    "        # set clutteredness\n",
    "        self.clutter_pieces = 6  # how many clutter pieces\n",
    "        self.clutter_dim = (8,8) # size of the clutter pieces \n",
    "        self.clutter_shift_lim = int(self.im_d[0]/2 - np.ceil(self.clutter_dim[0] / 2))   # up to how many pixels can the clutter pieces shift from the center\n",
    "\n",
    "    \n",
    "args = args_stru()\n",
    "\n",
    "\n",
    "\n",
    "train_ims, train_ys = generate_displays(args, train=True, train_val_split='train')  #\n",
    "tensor_train_ims = torch.Tensor(train_ims)/255 # transform to torch tensor\n",
    "tensor_train_ims = torch.clip(torch.sum(tensor_train_ims, dim=1, keepdim=True),0, 1)\n",
    "tensor_train_ys = torch.sum(torch.Tensor(train_ys), dim=1)\n",
    "#tensor_train_ys = torch.Tensor(train_ys)\n",
    "\n",
    "val_ims, val_ys = generate_displays(args, train=True, train_val_split='val')\n",
    "tensor_val_ims = torch.Tensor(val_ims)/255 # transform to torch tensor\n",
    "tensor_val_ims = torch.clip(torch.sum(tensor_val_ims, dim=1, keepdim=True),0, 1)\n",
    "tensor_val_ys = torch.sum(torch.Tensor(val_ys), dim=1)\n",
    "\n",
    "tensor_train_ims = torch.cat((tensor_train_ims,tensor_val_ims),dim=0)\n",
    "tensor_train_ys = torch.cat((tensor_train_ys,tensor_val_ys),dim=0)\n",
    "\n",
    "\n",
    "test_ims, test_ys = generate_displays(args, train=False)\n",
    "tensor_test_ims = torch.Tensor(test_ims)/255 # transform to torch tensor\n",
    "tensor_test_ims = torch.clip(torch.sum(tensor_test_ims, dim=1, keepdim=True),0, 1)\n",
    "tensor_test_ys = torch.sum(torch.Tensor(test_ys), dim=1)\n",
    "#tensor_test_ys = torch.Tensor(test_ys)\n",
    "\n",
    "\n",
    "print(tensor_train_ims.shape)\n",
    "print(tensor_test_ys.shape)"
   ]
  },
  {
   "cell_type": "markdown",
   "metadata": {},
   "source": [
    "### visualize data"
   ]
  },
  {
   "cell_type": "code",
   "execution_count": 10,
   "metadata": {
    "scrolled": true
   },
   "outputs": [
    {
     "name": "stdout",
     "output_type": "stream",
     "text": [
      "tensor([0., 1., 1., 0., 0., 0., 0., 0., 0., 0.])\n"
     ]
    },
    {
     "data": {
      "image/png": "[encoded data removed]",
      "text/plain": [
       "<Figure size 432x288 with 1 Axes>"
      ]
     },
     "metadata": {
      "needs_background": "light"
     },
     "output_type": "display_data"
    },
    {
     "name": "stdout",
     "output_type": "stream",
     "text": [
      "-----------------\n",
      "tensor([0., 0., 0., 0., 0., 1., 0., 1., 0., 0.])\n"
     ]
    },
    {
     "data": {
      "image/png": "[encoded data removed]",
      "text/plain": [
       "<Figure size 432x288 with 1 Axes>"
      ]
     },
     "metadata": {
      "needs_background": "light"
     },
     "output_type": "display_data"
    },
    {
     "name": "stdout",
     "output_type": "stream",
     "text": [
      "-----------------\n",
      "tensor([0., 1., 0., 0., 0., 0., 0., 0., 0., 1.])\n"
     ]
    },
    {
     "data": {
      "image/png": "[encoded data removed]",
      "text/plain": [
       "<Figure size 432x288 with 1 Axes>"
      ]
     },
     "metadata": {
      "needs_background": "light"
     },
     "output_type": "display_data"
    },
    {
     "name": "stdout",
     "output_type": "stream",
     "text": [
      "-----------------\n",
      "tensor([1., 1., 0., 0., 0., 0., 0., 0., 0., 0.])\n"
     ]
    },
    {
     "data": {
      "image/png": "[encoded data removed]",
      "text/plain": [
       "<Figure size 432x288 with 1 Axes>"
      ]
     },
     "metadata": {
      "needs_background": "light"
     },
     "output_type": "display_data"
    },
    {
     "name": "stdout",
     "output_type": "stream",
     "text": [
      "-----------------\n",
      "tensor([0., 0., 0., 0., 0., 0., 1., 1., 0., 0.])\n"
     ]
    },
    {
     "data": {
      "image/png": "[encoded data removed]",
      "text/plain": [
       "<Figure size 432x288 with 1 Axes>"
      ]
     },
     "metadata": {
      "needs_background": "light"
     },
     "output_type": "display_data"
    },
    {
     "name": "stdout",
     "output_type": "stream",
     "text": [
      "-----------------\n"
     ]
    }
   ],
   "source": [
    "for i in range(5):\n",
    "    plt.imshow(np.squeeze(tensor_train_ims[i]))\n",
    "    print(tensor_train_ys[i])\n",
    "    plt.show()\n",
    "    print('-----------------')"
   ]
  },
  {
   "cell_type": "markdown",
   "metadata": {},
   "source": [
    "### save as pytorch data file "
   ]
  },
  {
   "cell_type": "code",
   "execution_count": 11,
   "metadata": {},
   "outputs": [],
   "source": [
    "if not os.path.isdir(args.save_dir):\n",
    "    os.makedirs(args.save_dir)\n",
    "\n",
    "torch.save((tensor_train_ims, tensor_train_ys), args.save_dir + \n",
    "           f'mnist_cluttered{args.num_objects}o{args.clutter_pieces}c_{args.trials_per_im}fold_{args.im_d[0]}_trainval.pt')\n",
    "torch.save((tensor_test_ims, tensor_test_ys), args.save_dir + \n",
    "           f'mnist_cluttered{args.num_objects}o{args.clutter_pieces}c_{args.trials_per_im}fold_{args.im_d[0]}_test.pt')"
   ]
  },
  {
   "cell_type": "markdown",
   "metadata": {},
   "source": [
    "## Generate Multi-SVHN"
   ]
  },
  {
   "cell_type": "code",
   "execution_count": 1,
   "metadata": {},
   "outputs": [],
   "source": [
    "# Helper functions to process svhn data\n",
    "# Codes mainly adapted from https://github.com/pitsios-s/SVHN-Thesis/blob/master/src/multi_digit/svhn.py\n",
    "# https://github.com/pitsios-s/SVHN\n",
    "# https://github.com/Alikerin/Pytorch-1.0-Implementation-of-Google-Street-View-House-Numbers-SVHN-classifier\n",
    "\n",
    "\n",
    "%matplotlib inline \n",
    "import matplotlib.pyplot as plt\n",
    "\n",
    "import h5py\n",
    "import os\n",
    "import numpy as np\n",
    "import PIL.Image as Image\n",
    "import random\n",
    "\n",
    "\n",
    "class SVHNMulti:\n",
    "    \"\"\" This class contains all the necessary functionality to Load, Process and Save the SVHN multi digit images \"\"\"\n",
    "\n",
    "    def __init__(self, output_dir, max_labels=5, normalize=True, gray=False, tight_crop=True):\n",
    "        \"\"\" Default constructor\n",
    "        Args:\n",
    "            output_dir: The directory the processed data will be stored\n",
    "            max_labels: The maximum number of digit length that we will allow\n",
    "            normalize: Image normalization flag\n",
    "            gray: Image gray scaling flag\n",
    "        \"\"\"\n",
    "        self.PIXEL_DEPTH = 255\n",
    "        self.NUM_LABELS = 11\n",
    "        self.OUT_HEIGHT = 64\n",
    "        self.OUT_WIDTH = 64\n",
    "        self.NUM_CHANNELS = 3\n",
    "        self.MAX_LABELS = max_labels\n",
    "        self.output_dir = output_dir\n",
    "        self.file = None\n",
    "        self.digit_struct_name = None\n",
    "        self.digit_struct_bbox = None\n",
    "        self.normalize = normalize\n",
    "        self.gray = gray\n",
    "        self.tight_crop = tight_crop\n",
    "\n",
    "    def get_image_name(self, n):\n",
    "        \"\"\"Returns the current image's name\n",
    "        Args:\n",
    "            n: The index of the image\n",
    "\n",
    "        Returns:\n",
    "            The name of the n-th image\n",
    "        \"\"\"\n",
    "        name = ''.join([chr(c[0]) for c in self.file[self.digit_struct_name[n][0]]])\n",
    "        return name\n",
    "\n",
    "    def bounding_box_helper(self, attr):\n",
    "        \"\"\"Extracts and returns the value of a specific attribute of the bounding box structure\n",
    "\n",
    "        Args:\n",
    "            attr: The attribute to extract its value\n",
    "        Returns:\n",
    "            The value of the attribute\n",
    "        \"\"\"\n",
    "        if len(attr) > 1:\n",
    "            attr = [self.file[attr[j].item()][0][0] for j in range(len(attr))]\n",
    "        else:\n",
    "            attr = [attr[0][0]]\n",
    "        return attr\n",
    "\n",
    "    def get_bounding_box(self, n):\n",
    "        \"\"\"Extracts and returns the bounding box information, regarding the n-th image\n",
    "\n",
    "        Args:\n",
    "            n: The index of the image\n",
    "\n",
    "        Returns:\n",
    "            Bounding box information about the n-th image\n",
    "        \"\"\"\n",
    "        bbox = {}\n",
    "        bb = self.digit_struct_bbox[n].item()\n",
    "\n",
    "        bbox['label'] = self.bounding_box_helper(self.file[bb][\"label\"])\n",
    "        bbox['top'] = self.bounding_box_helper(self.file[bb][\"top\"])\n",
    "        bbox['left'] = self.bounding_box_helper(self.file[bb][\"left\"])\n",
    "        bbox['height'] = self.bounding_box_helper(self.file[bb][\"height\"])\n",
    "        bbox['width'] = self.bounding_box_helper(self.file[bb][\"width\"])\n",
    "\n",
    "        return bbox\n",
    "\n",
    "    def get_digit_structure(self, n):\n",
    "        \"\"\"Creates and returns the whole structure of the image, including the name, based on bounding boxes\n",
    "\n",
    "        Args:\n",
    "            n: The index of the image under consideration\n",
    "\n",
    "        Returns:\n",
    "            The image's structure\n",
    "        \"\"\"\n",
    "        structure = self.get_bounding_box(n)\n",
    "        structure['name'] = self.get_image_name(n)\n",
    "        return structure\n",
    "\n",
    "    def get_all_images_and_digit_structures(self):\n",
    "        \"\"\"Loops through every image and returns a large array containing the structure of each one\"\"\"\n",
    "        structs = []\n",
    "        for i in range(len(self.digit_struct_name)):\n",
    "            structure = self.get_digit_structure(i)\n",
    "            if len(structure[\"label\"]) <= self.MAX_LABELS:\n",
    "                structs.append(structure)\n",
    "        return structs\n",
    "\n",
    "    def save_data(self, data, labels, name):\n",
    "        \"\"\"Saves image data and labels in hdf5 format\n",
    "\n",
    "        Args:\n",
    "            data: The image data array\n",
    "            labels: The labels of the images\n",
    "            name: The name of the file to created\n",
    "        \"\"\"\n",
    "        h5f = h5py.File(os.path.join(self.output_dir, name + \".h5\"), \"w\")\n",
    "        h5f.create_dataset(name + \"_dataset\", data=data)\n",
    "        h5f.create_dataset(name + \"_labels\", data=labels)\n",
    "\n",
    "    def load_data(self, name):\n",
    "        \"\"\"Loads an hdf5 file that contains the image data and labels\n",
    "\n",
    "        Args:\n",
    "            name: The name of the file to be loaded\n",
    "\n",
    "        Returns:\n",
    "            The data and labels arrays\n",
    "        \"\"\"\n",
    "        h5f = h5py.File(os.path.join(self.output_dir, name + \".h5\"), \"r\")\n",
    "        data = h5f[name + \"_dataset\"][:]\n",
    "        labels = h5f[name + \"_labels\"][:]\n",
    "\n",
    "        return data, labels\n",
    "\n",
    "    def read_digit_structure(self, data_dir):\n",
    "        \"\"\"Loads the digit structure file, stores the image name and bounding boxes details and returns an array\n",
    "        containing the image name, as well as arrays containing the information about bounding boxes\n",
    "\n",
    "        Args:\n",
    "            data_dir: The directory that contains the digit structure file\n",
    "        Returns:\n",
    "            All the information from the structure file\n",
    "        \"\"\"\n",
    "        struct_file = data_dir + \"/digitStruct.mat\"\n",
    "        self.file = h5py.File(struct_file, 'r')\n",
    "        self.digit_struct_name = self.file['digitStruct']['name']\n",
    "        self.digit_struct_bbox = self.file['digitStruct']['bbox']\n",
    "        structs = self.get_all_images_and_digit_structures()\n",
    "\n",
    "        return structs\n",
    "\n",
    "    def process_file(self, data_dir):\n",
    "        \"\"\"Processes all images one by one and returns them, together with their labels\n",
    "\n",
    "        Args:\n",
    "            data_dir: The directory that contains the images and the structure file\n",
    "\n",
    "        Returns:\n",
    "            The processed images and their labels\n",
    "        \"\"\"\n",
    "        if self.gray:\n",
    "            self.NUM_CHANNELS = 1\n",
    "\n",
    "        structs = self.read_digit_structure(data_dir)\n",
    "        data_count = len(structs)\n",
    "        \n",
    "        print(data_count)\n",
    "\n",
    "        image_data = np.zeros((data_count, self.OUT_HEIGHT, self.OUT_WIDTH, self.NUM_CHANNELS), dtype=np.float32)\n",
    "        labels = np.zeros((data_count, self.MAX_LABELS, self.NUM_LABELS), dtype=np.int32)\n",
    "\n",
    "        ind = 0\n",
    "        for i in range(data_count):\n",
    "            lbls = structs[i]['label']\n",
    "            file_name = os.path.join(data_dir, structs[i]['name'])\n",
    "            top = structs[i]['top']\n",
    "            left = structs[i]['left']\n",
    "            height = structs[i]['height']\n",
    "            width = structs[i]['width']\n",
    "\n",
    "            lbls_img = self.create_label_array(lbls)\n",
    "#             print('lbls_img')\n",
    "#             print(lbls_img)\n",
    "#             print(lbls_img.shape)\n",
    "#             print(lbls_img[0])\n",
    "            \n",
    "            image = Image.open(file_name)\n",
    "\n",
    "#            print('image.size')\n",
    "            img_size = image.size\n",
    "#            print(img_size)\n",
    "\n",
    "            s_side = min(img_size)\n",
    "            l_side = max(img_size)\n",
    "        \n",
    "#             if (np.max(np.sum(lbls_img[:,:10], axis=0)) == 1): # & (l_side>50) & (s_side>50):\n",
    "            \n",
    "            image_array = self.create_image_array(image, top, left, height, width)\n",
    "\n",
    "            if np.max(image_array) > 0:\n",
    "\n",
    "                image_data[ind] = image_array\n",
    "                labels[ind] = lbls_img  #[0] + lbls_img[1]\n",
    "\n",
    "                #print(ind)\n",
    "                ind = ind + 1\n",
    "                \n",
    "\n",
    "        return image_data, labels, ind\n",
    "\n",
    "    def create_label_array(self, labels):\n",
    "        \"\"\"Creates and returns an array of one-hot-encoded arrays, one for every digit in of the input label\n",
    "\n",
    "        Args:\n",
    "            labels: The labels of the current image, i.e a number with 1 to 5 digits\n",
    "\n",
    "        Returns:\n",
    "            An array of one-hot-encoded representations, for every digit in the input label\n",
    "        \"\"\"\n",
    "        num_digits = len(labels)\n",
    "        labels_array = np.ones([self.MAX_LABELS], dtype=np.int32) * 10\n",
    "        one_hot_labels = np.zeros((self.MAX_LABELS, self.NUM_LABELS), dtype=np.int32)\n",
    "\n",
    "        for n in range(num_digits):\n",
    "            if labels[n] == 10:\n",
    "                labels[n] = 0\n",
    "            labels_array[n] = labels[n]\n",
    "\n",
    "        for n in range(len(labels_array)):\n",
    "            one_hot_labels[n] = self.one_hot_encode(labels_array[n])\n",
    "\n",
    "        return one_hot_labels\n",
    "\n",
    "    def one_hot_encode(self, number):\n",
    "        \"\"\" Creates and returns a hot-hot-encoding representation of a given number\n",
    "        Args:\n",
    "            number: The number to be encoded\n",
    "        Returns:\n",
    "            The one-hot representation of the given number as a numpy array\n",
    "        \"\"\"\n",
    "        one_hot = np.zeros(shape=self.NUM_LABELS, dtype=np.int32)\n",
    "        one_hot[number] = 1\n",
    "\n",
    "        return one_hot\n",
    "\n",
    "    def create_image_array(self, image, top, left, height, width):\n",
    "        \"\"\"Crops an image so that it will contain only the portion with the digits of interest\n",
    "\n",
    "        Args:\n",
    "            file_name: The name of the image to be processed\n",
    "            top: The Y-coordinate of the top left point of every digit's bounding box\n",
    "            left: The X-coordinate of the top left point of every digit's bounding box\n",
    "            height: The height of every digit's bounding box\n",
    "            width: The width of every digit's bounding box\n",
    "\n",
    "        Returns:\n",
    "            A numpy representation of the processed image\n",
    "        \"\"\"\n",
    "\n",
    "        # Load image\n",
    "        #image = Image.open(file_name)\n",
    "        \n",
    "#         desired_size = 100\n",
    "#         old_size = image.size\n",
    "        \n",
    "#         ratio = float(desired_size)/max(old_size)\n",
    "#         new_size = tuple([int(x*ratio) for x in old_size])\n",
    "        \n",
    "#         image = image.resize(new_size, Image.ANTIALIAS)\n",
    "        \n",
    "#         new_im = Image.new(\"RGB\", (desired_size, desired_size))\n",
    "#         new_im.paste(image, ((desired_size-new_size[0])//2,\n",
    "#                     (desired_size-new_size[1])//2))\n",
    "\n",
    "        image_array = np.zeros_like(image)\n",
    "        \n",
    "        #print('image.size')\n",
    "        img_size = image.size\n",
    "        #print(img_size)\n",
    "        \n",
    "        s_side = min(img_size)\n",
    "        l_side = max(img_size)\n",
    "        \n",
    "        s_ind = img_size.index(s_side)\n",
    "        l_ind = img_size.index(l_side)\n",
    "         \n",
    "        \n",
    "        # Find the smallest Y-coordinate among every digit's bounding box\n",
    "        image_top = np.amin(top)\n",
    "\n",
    "        # Find the smallest X-coordinate among every digit's bounding box\n",
    "        image_left = np.amin(left)\n",
    "        \n",
    "        image_height = np.amax(top) + height[np.argmax(top)] - image_top\n",
    "        image_width = np.amax(left) + width[np.argmax(left)] - image_left\n",
    "\n",
    "        \n",
    "        \n",
    "        if self.tight_crop:\n",
    "            # Find the smallest possible bounding box that will fit all the digits an once, and expand it by 20%\n",
    "            box_left = np.floor(image_left - 0.1 * image_width)\n",
    "            box_top = np.floor(image_top - 0.1 * image_height)\n",
    "            box_right = np.amin([np.ceil(box_left + 1.2 * image_width), image.size[0]])\n",
    "            box_bottom = np.amin([np.ceil(image_top + 1.2 * image_height), image.size[1]])\n",
    "            \n",
    "            # Crop image based on the unified bounding box and scale it to a smaller size\n",
    "            image = image.crop((box_left, box_top, box_right, box_bottom)).\\\n",
    "                resize([self.OUT_HEIGHT, self.OUT_WIDTH], Image.ANTIALIAS)\n",
    "        \n",
    "            \n",
    "            \n",
    "        else : # if not self.tight_crop\n",
    "            area_bbb = image_height * image_width    # area of the bigger bouding box \n",
    "            dim_bbb = [image_width, image_height]\n",
    "\n",
    "            area_crop = s_side * s_side\n",
    "\n",
    "            # how much can the final crop move along the longer dimension of the original iamge\n",
    "            jitter_max = (s_side - dim_bbb[l_ind])\n",
    "\n",
    "            if (jitter_max > 1):\n",
    "\n",
    "        #                 # Find the smallest possible bounding box that will fit all the digits an once, and expand it by 20%\n",
    "        #         box_left = np.floor(image_left - 0.1 * image_width)\n",
    "        #         box_top = np.floor(image_top - 0.1 * image_height)\n",
    "        #         box_right = np.amin([np.ceil(box_left + 1.2 * image_width), image.size[0]])\n",
    "        #         box_bottom = np.amin([np.ceil(image_top + 1.2 * image_height), image.size[1]])\n",
    "\n",
    "                if s_ind == 0: #the short side is the width  - jitter top - down \n",
    "\n",
    "                    # in order for the crop not to go outside the image bounds \n",
    "                    rand_lowerb = max (((image_top + s_side) - l_side) / jitter_max, 0)\n",
    "                    rand_upperb = min(image_top/jitter_max, 1)\n",
    "\n",
    "\n",
    "\n",
    "                    jitter = random.uniform(rand_lowerb, rand_upperb) * jitter_max\n",
    "                    box_left = 0\n",
    "                    box_top =  np.floor(image_top - jitter)\n",
    "                    box_right = s_side \n",
    "                    box_bottom = np.ceil(box_top + s_side)\n",
    "\n",
    "                else:  #the short side is the height   jitter is left - right \n",
    "\n",
    "                    # in order for the crop not to go outside the image bounds \n",
    "                    rand_lowerb = max (((image_left + s_side) - l_side) / jitter_max, 0)\n",
    "                    rand_upperb = min(image_left/jitter_max, 1)\n",
    "\n",
    "                    jitter = random.uniform(rand_lowerb, rand_upperb) * jitter_max\n",
    "                    box_left = np.floor(image_left - jitter)\n",
    "                    box_top = 0\n",
    "                    box_right = np.ceil(box_left + s_side)\n",
    "                    box_bottom = s_side\n",
    "                    \n",
    "                # Crop image based on the unified bounding box and scale it to a smaller size\n",
    "                image = image.crop((box_left, box_top, box_right, box_bottom)).\\\n",
    "                    resize([self.OUT_HEIGHT, self.OUT_WIDTH], Image.ANTIALIAS)\n",
    "\n",
    "            else:  # (jitter_max < 1) In this  case no cropping is necessary \n",
    "                image = image.resize([self.OUT_HEIGHT, self.OUT_WIDTH], Image.ANTIALIAS)\n",
    "\n",
    "        \n",
    "#         print('\\n bbb corners')\n",
    "#         print([box_left, box_top, box_right, box_bottom])\n",
    "\n",
    "\n",
    "#         plt.imshow(image)\n",
    "#         plt.show()\n",
    "        \n",
    "        # Convert image to numpy array\n",
    "        image_array = np.array(image)\n",
    "\n",
    "        # Normalize if necessary\n",
    "        if self.normalize:\n",
    "            image_array = (255 - image_array) * 1.0 / 255.0\n",
    "            #image_array -= np.mean(image_array, axis=0)\n",
    "        \n",
    "        # Convert to gray scale if necessary\n",
    "        if self.gray:\n",
    "            image_array = np.expand_dims(np.dot(image_array, [0.2989, 0.5870, 0.1140]), axis=2)\n",
    "\n",
    "        return image_array\n",
    "\n",
    "\n",
    "PATH_SAVE = \"./data/svhn-data/multi/\"\n",
    "svhn = SVHNMulti(PATH_SAVE, normalize=True, gray=True, tight_crop=True)  # , max_labels=3\n",
    "\n",
    "\n",
    "# f = h5py.File(\"./svhn-data/multi/train.h5\", 'r')\n",
    "# for key in f.keys():\n",
    "#     print(key)"
   ]
  },
  {
   "cell_type": "code",
   "execution_count": null,
   "metadata": {},
   "outputs": [],
   "source": [
    "######################################\n",
    "# download original files and unzip\n",
    "######################################\n",
    "# http://ufldl.stanford.edu/housenumbers/\n",
    "# Format 1: Full Numbers: train.tar.gz, test.tar.gz , extra.tar.gz (Note: for non-commercial use only)\n",
    "\n",
    "DOWNLOAD = False\n",
    "if DOWNLOAD:\n",
    "    def download_from_url(url, savedir, filename, overwrite=False):\n",
    "        import os\n",
    "        from urllib.request import urlretrieve\n",
    "\n",
    "        if not os.path.exists(savedir):\n",
    "            os.mkdir(savedir)\n",
    "        if not os.path.exists(savedir+filename) or overwrite:\n",
    "            print(f'downloading file from {url}...')\n",
    "            urlretrieve(url, savedir+filename)\n",
    "            print(f'file saved to {savedir+filename}')\n",
    "        else: print('file already exist, set overwrite =True for download')\n",
    "\n",
    "    def unzip(fname, save_dir):\n",
    "        import tarfile\n",
    "        if fname.endswith(\"tar.gz\"):\n",
    "            print(f'extracting {fname}...')\n",
    "            tar = tarfile.open(fname, \"r:gz\")\n",
    "            tar.extractall(save_dir)\n",
    "            tar.close()\n",
    "            print(f'saved under {save_dir}')\n",
    "        elif fname.endswith(\"tar\"):\n",
    "            print(f'extracting {fname}...')\n",
    "            tar = tarfile.open(fname, \"r:\")\n",
    "            tar.extractall(save_dir)\n",
    "            tar.close()\n",
    "            print(f'saved under {save_dir}')\n",
    "\n",
    "    url = 'http://ufldl.stanford.edu/housenumbers/train.tar.gz'\n",
    "    savedir = './data/svhn-data/'\n",
    "    filename = 'train.tar.gz'\n",
    "    download_from_url(url, savedir, filename)\n",
    "    unzip(savedir+filename, savedir)\n",
    "\n",
    "    url = 'http://ufldl.stanford.edu/housenumbers/test.tar.gz'\n",
    "    savedir = './data/svhn-data/'\n",
    "    filename = 'test.tar.gz'\n",
    "    download_from_url(url, savedir, filename)\n",
    "    unzip(savedir+filename, savedir)\n",
    "\n",
    "    url = 'http://ufldl.stanford.edu/housenumbers/extra.tar.gz'\n",
    "    savedir = './data/svhn-data/'\n",
    "    filename = 'extra.tar.gz'\n",
    "    download_from_url(url, savedir, filename)\n",
    "    unzip(savedir+filename, savedir)"
   ]
  },
  {
   "cell_type": "code",
   "execution_count": 2,
   "metadata": {},
   "outputs": [
    {
     "name": "stdout",
     "output_type": "stream",
     "text": [
      "33401\n",
      "33401\n",
      "13068\n",
      "13068\n",
      "202353\n",
      "202353\n"
     ]
    }
   ],
   "source": [
    "#######################\n",
    "# processing dataset\n",
    "#######################\n",
    "\n",
    "import torchvision.transforms as T\n",
    "from torchvision import datasets\n",
    "from torch.utils.data import Dataset, DataLoader, TensorDataset\n",
    "import numpy as np\n",
    "import torch\n",
    "import csv\n",
    "from torch.utils.data.dataset import random_split\n",
    "\n",
    "# Original Dataset Path\n",
    "data_dir_train = './data/svhn-data/train/'\n",
    "data_dir_test = './data/svhn-data/test/'\n",
    "data_dir_extra = './data/svhn-data/extra/'\n",
    "\n",
    "\n",
    "# Train dataset\n",
    "train_ims, train_ys, ind = svhn.process_file(data_dir_train)\n",
    "#svhn.save_data(train_data, train_labels, \"train\")\n",
    "tensor_train_ims = torch.Tensor(train_ims[:ind]) \n",
    "tensor_train_ims = torch.movedim(tensor_train_ims, -1, 1)\n",
    "tensor_train_ys = torch.Tensor(train_ys[:ind])\n",
    "#tensor_train_ys = torch.sum(tensor_train_ys, 1)[:,:10]\n",
    "\n",
    "print(ind) # 33401\n",
    "\n",
    "# Test dataset\n",
    "test_ims, test_ys, ind = svhn.process_file(data_dir_test)\n",
    "# svhn.save_data(test_data, test_labels, \"test\")\n",
    "tensor_test_ims = torch.Tensor(test_ims[:ind]) \n",
    "tensor_test_ims = torch.movedim(tensor_test_ims, -1, 1)\n",
    "tensor_test_ys = torch.Tensor(test_ys[:ind])\n",
    "#tensor_test_ys = torch.sum(tensor_test_ys, 1)[:,:10]\n",
    "\n",
    "print(ind) # 13068\n",
    "\n",
    "# Extra dataset\n",
    "extra_ims, extra_ys, ind = svhn.process_file(data_dir_extra)\n",
    "#svhn.save_data(extra_data, extra_labels, \"extra\")\n",
    "tensor_extra_ims = torch.Tensor(extra_ims[:ind]) \n",
    "tensor_extra_ims = torch.movedim(tensor_extra_ims, -1, 1)\n",
    "tensor_extra_ys = torch.Tensor(extra_ys[:ind])\n",
    "#tensor_extra_ys = torch.sum(tensor_extra_ys, 1)[:,:10]\n",
    "\n",
    "print(ind) # 202353\n",
    "\n",
    "# save the original train, test, and extra images. \n",
    "# torch.save((tensor_train_ims, tensor_train_ys, tensor_test_ims, tensor_test_ys, tensor_extra_ims, tensor_extra_ys), '../data/svhn-data/svhn_raw.pt')\n",
    "# load the data from saved files\n",
    "# tensor_train_ims, tensor_train_ys, tensor_test_ims, tensor_test_ys, tensor_extra_ims, tensor_extra_ys = torch.load('../data/svhn-data/svhn_raw.pt')"
   ]
  },
  {
   "cell_type": "code",
   "execution_count": 3,
   "metadata": {},
   "outputs": [],
   "source": [
    "#############################################\n",
    "# add background class for non digit classes\n",
    "#############################################\n",
    "def add_classes(tensor_ys): \n",
    "#added_classes.shape\n",
    "\n",
    "    added_classes = torch.zeros((len(tensor_ys), 5, 4))\n",
    "\n",
    "    for i in range(len(tensor_ys)):\n",
    "        if torch.sum(tensor_ys[i,:,:10]) == 1:\n",
    "            added_classes[i,0,:] = torch.tensor([1, 1, 1, 1])\n",
    "        elif torch.sum(tensor_ys[i,:,:10]) == 2:\n",
    "            added_classes[i,0,:] = torch.tensor([1, 1, 1, 0])\n",
    "        elif torch.sum(tensor_ys[i,:,:10]) == 3:\n",
    "            added_classes[i,0,:] = torch.tensor([1, 1, 0, 0])\n",
    "        elif torch.sum(tensor_ys[i,:,:10]) == 4:\n",
    "            added_classes[i,0,:] = torch.tensor([1, 0, 0, 0])\n",
    "        elif torch.sum(tensor_ys[i,:,:10]) == 5:\n",
    "            added_classes[i,0,:] = torch.tensor([0, 0, 0, 0])\n",
    "            \n",
    "    return torch.cat((tensor_ys[:,:,:10],added_classes), dim=2)       \n",
    "\n",
    "\n",
    "tensor_train_ims = torch.cat((tensor_extra_ims, tensor_train_ims), dim=0)\n",
    "tensor_train_ys = torch.cat((tensor_extra_ys, tensor_train_ys), dim=0)\n",
    "\n",
    "tensor_train_ys = add_classes(tensor_train_ys)\n",
    "tensor_test_ys = add_classes(tensor_test_ys)"
   ]
  },
  {
   "cell_type": "code",
   "execution_count": 8,
   "metadata": {},
   "outputs": [],
   "source": [
    "#####################\n",
    "# shuffle dataset\n",
    "####################\n",
    "idx = np.random.permutation(len(tensor_train_ims))\n",
    "tensor_train_ims, tensor_train_ys= tensor_train_ims[idx], tensor_train_ys[idx]\n",
    "\n",
    "idx = np.random.permutation(len(tensor_test_ims))\n",
    "tensor_test_ims, tensor_test_ys= tensor_test_ims[idx], tensor_test_ys[idx]"
   ]
  },
  {
   "cell_type": "code",
   "execution_count": 11,
   "metadata": {},
   "outputs": [],
   "source": [
    "###################################\n",
    "# save the train and test datasets\n",
    "###################################\n",
    "SAVE = True\n",
    "if SAVE:    \n",
    "    torch.save((tensor_train_ims, tensor_train_ys), './data/svhn-data/multisvhn_train_14classes.pt')\n",
    "    torch.save((tensor_test_ims, tensor_test_ys), './data/svhn-data/multisvhn_test_14classes.pt')"
   ]
  },
  {
   "cell_type": "code",
   "execution_count": 12,
   "metadata": {},
   "outputs": [
    {
     "data": {
      "image/png": "[encoded data removed]",
      "text/plain": [
       "<Figure size 432x288 with 1 Axes>"
      ]
     },
     "metadata": {
      "needs_background": "light"
     },
     "output_type": "display_data"
    },
    {
     "name": "stdout",
     "output_type": "stream",
     "text": [
      "tensor([[0., 0., 0., 0., 1., 0., 0., 0., 0., 0., 1., 1., 0., 0.],\n",
      "        [0., 0., 0., 0., 0., 0., 0., 0., 0., 1., 0., 0., 0., 0.],\n",
      "        [0., 0., 0., 0., 0., 0., 0., 0., 1., 0., 0., 0., 0., 0.],\n",
      "        [0., 0., 0., 0., 0., 0., 0., 0., 0., 0., 0., 0., 0., 0.],\n",
      "        [0., 0., 0., 0., 0., 0., 0., 0., 0., 0., 0., 0., 0., 0.]])\n"
     ]
    },
    {
     "data": {
      "image/png": "[encoded data removed]",
      "text/plain": [
       "<Figure size 432x288 with 1 Axes>"
      ]
     },
     "metadata": {
      "needs_background": "light"
     },
     "output_type": "display_data"
    },
    {
     "name": "stdout",
     "output_type": "stream",
     "text": [
      "tensor([[0., 1., 0., 0., 0., 0., 0., 0., 0., 0., 1., 1., 0., 0.],\n",
      "        [0., 0., 0., 0., 0., 0., 0., 1., 0., 0., 0., 0., 0., 0.],\n",
      "        [0., 0., 0., 0., 0., 0., 0., 0., 1., 0., 0., 0., 0., 0.],\n",
      "        [0., 0., 0., 0., 0., 0., 0., 0., 0., 0., 0., 0., 0., 0.],\n",
      "        [0., 0., 0., 0., 0., 0., 0., 0., 0., 0., 0., 0., 0., 0.]])\n"
     ]
    },
    {
     "data": {
      "image/png": "[encoded data removed]",
      "text/plain": [
       "<Figure size 432x288 with 1 Axes>"
      ]
     },
     "metadata": {
      "needs_background": "light"
     },
     "output_type": "display_data"
    },
    {
     "name": "stdout",
     "output_type": "stream",
     "text": [
      "tensor([[0., 0., 0., 1., 0., 0., 0., 0., 0., 0., 1., 1., 0., 0.],\n",
      "        [0., 0., 0., 1., 0., 0., 0., 0., 0., 0., 0., 0., 0., 0.],\n",
      "        [0., 0., 1., 0., 0., 0., 0., 0., 0., 0., 0., 0., 0., 0.],\n",
      "        [0., 0., 0., 0., 0., 0., 0., 0., 0., 0., 0., 0., 0., 0.],\n",
      "        [0., 0., 0., 0., 0., 0., 0., 0., 0., 0., 0., 0., 0., 0.]])\n"
     ]
    },
    {
     "data": {
      "image/png": "[encoded data removed]",
      "text/plain": [
       "<Figure size 432x288 with 1 Axes>"
      ]
     },
     "metadata": {
      "needs_background": "light"
     },
     "output_type": "display_data"
    },
    {
     "name": "stdout",
     "output_type": "stream",
     "text": [
      "tensor([[0., 0., 0., 0., 0., 1., 0., 0., 0., 0., 1., 1., 1., 0.],\n",
      "        [0., 0., 0., 1., 0., 0., 0., 0., 0., 0., 0., 0., 0., 0.],\n",
      "        [0., 0., 0., 0., 0., 0., 0., 0., 0., 0., 0., 0., 0., 0.],\n",
      "        [0., 0., 0., 0., 0., 0., 0., 0., 0., 0., 0., 0., 0., 0.],\n",
      "        [0., 0., 0., 0., 0., 0., 0., 0., 0., 0., 0., 0., 0., 0.]])\n"
     ]
    },
    {
     "data": {
      "image/png": "[encoded data removed]",
      "text/plain": [
       "<Figure size 432x288 with 1 Axes>"
      ]
     },
     "metadata": {
      "needs_background": "light"
     },
     "output_type": "display_data"
    },
    {
     "name": "stdout",
     "output_type": "stream",
     "text": [
      "tensor([[0., 0., 0., 1., 0., 0., 0., 0., 0., 0., 1., 1., 0., 0.],\n",
      "        [0., 0., 0., 0., 0., 0., 1., 0., 0., 0., 0., 0., 0., 0.],\n",
      "        [0., 0., 0., 0., 0., 0., 1., 0., 0., 0., 0., 0., 0., 0.],\n",
      "        [0., 0., 0., 0., 0., 0., 0., 0., 0., 0., 0., 0., 0., 0.],\n",
      "        [0., 0., 0., 0., 0., 0., 0., 0., 0., 0., 0., 0., 0., 0.]])\n"
     ]
    },
    {
     "data": {
      "image/png": "[encoded data removed]",
      "text/plain": [
       "<Figure size 432x288 with 1 Axes>"
      ]
     },
     "metadata": {
      "needs_background": "light"
     },
     "output_type": "display_data"
    },
    {
     "name": "stdout",
     "output_type": "stream",
     "text": [
      "tensor([[0., 0., 0., 0., 0., 0., 1., 0., 0., 0., 1., 1., 1., 0.],\n",
      "        [1., 0., 0., 0., 0., 0., 0., 0., 0., 0., 0., 0., 0., 0.],\n",
      "        [0., 0., 0., 0., 0., 0., 0., 0., 0., 0., 0., 0., 0., 0.],\n",
      "        [0., 0., 0., 0., 0., 0., 0., 0., 0., 0., 0., 0., 0., 0.],\n",
      "        [0., 0., 0., 0., 0., 0., 0., 0., 0., 0., 0., 0., 0., 0.]])\n"
     ]
    },
    {
     "data": {
      "image/png": "[encoded data removed]",
      "text/plain": [
       "<Figure size 432x288 with 1 Axes>"
      ]
     },
     "metadata": {
      "needs_background": "light"
     },
     "output_type": "display_data"
    },
    {
     "name": "stdout",
     "output_type": "stream",
     "text": [
      "tensor([[0., 0., 0., 1., 0., 0., 0., 0., 0., 0., 1., 1., 0., 0.],\n",
      "        [1., 0., 0., 0., 0., 0., 0., 0., 0., 0., 0., 0., 0., 0.],\n",
      "        [1., 0., 0., 0., 0., 0., 0., 0., 0., 0., 0., 0., 0., 0.],\n",
      "        [0., 0., 0., 0., 0., 0., 0., 0., 0., 0., 0., 0., 0., 0.],\n",
      "        [0., 0., 0., 0., 0., 0., 0., 0., 0., 0., 0., 0., 0., 0.]])\n"
     ]
    },
    {
     "data": {
      "image/png": "[encoded data removed]",
      "text/plain": [
       "<Figure size 432x288 with 1 Axes>"
      ]
     },
     "metadata": {
      "needs_background": "light"
     },
     "output_type": "display_data"
    },
    {
     "name": "stdout",
     "output_type": "stream",
     "text": [
      "tensor([[0., 1., 0., 0., 0., 0., 0., 0., 0., 0., 1., 1., 0., 0.],\n",
      "        [0., 0., 0., 0., 0., 0., 0., 0., 0., 1., 0., 0., 0., 0.],\n",
      "        [0., 1., 0., 0., 0., 0., 0., 0., 0., 0., 0., 0., 0., 0.],\n",
      "        [0., 0., 0., 0., 0., 0., 0., 0., 0., 0., 0., 0., 0., 0.],\n",
      "        [0., 0., 0., 0., 0., 0., 0., 0., 0., 0., 0., 0., 0., 0.]])\n"
     ]
    },
    {
     "data": {
      "image/png": "[encoded data removed]",
      "text/plain": [
       "<Figure size 432x288 with 1 Axes>"
      ]
     },
     "metadata": {
      "needs_background": "light"
     },
     "output_type": "display_data"
    },
    {
     "name": "stdout",
     "output_type": "stream",
     "text": [
      "tensor([[0., 0., 1., 0., 0., 0., 0., 0., 0., 0., 1., 0., 0., 0.],\n",
      "        [0., 1., 0., 0., 0., 0., 0., 0., 0., 0., 0., 0., 0., 0.],\n",
      "        [0., 0., 0., 0., 0., 0., 1., 0., 0., 0., 0., 0., 0., 0.],\n",
      "        [0., 0., 0., 0., 0., 1., 0., 0., 0., 0., 0., 0., 0., 0.],\n",
      "        [0., 0., 0., 0., 0., 0., 0., 0., 0., 0., 0., 0., 0., 0.]])\n"
     ]
    },
    {
     "data": {
      "image/png": "[encoded data removed]",
      "text/plain": [
       "<Figure size 432x288 with 1 Axes>"
      ]
     },
     "metadata": {
      "needs_background": "light"
     },
     "output_type": "display_data"
    },
    {
     "name": "stdout",
     "output_type": "stream",
     "text": [
      "tensor([[0., 1., 0., 0., 0., 0., 0., 0., 0., 0., 1., 1., 0., 0.],\n",
      "        [1., 0., 0., 0., 0., 0., 0., 0., 0., 0., 0., 0., 0., 0.],\n",
      "        [0., 1., 0., 0., 0., 0., 0., 0., 0., 0., 0., 0., 0., 0.],\n",
      "        [0., 0., 0., 0., 0., 0., 0., 0., 0., 0., 0., 0., 0., 0.],\n",
      "        [0., 0., 0., 0., 0., 0., 0., 0., 0., 0., 0., 0., 0., 0.]])\n"
     ]
    }
   ],
   "source": [
    "##################################\n",
    "# Visualize\n",
    "##################################\n",
    "%matplotlib inline \n",
    "import matplotlib.pyplot as plt\n",
    "\n",
    "for i in range(10):\n",
    "    plt.imshow(tensor_train_ims[i, 0], cmap=\"gray\" ) #  np.concatenate((train_ims, extra_data)\n",
    "    plt.show()\n",
    "    print(tensor_train_ys[i])"
   ]
  },
  {
   "cell_type": "code",
   "execution_count": 14,
   "metadata": {},
   "outputs": [
    {
     "data": {
      "text/plain": [
       "torch.Size([235754, 5, 14])"
      ]
     },
     "execution_count": 14,
     "metadata": {},
     "output_type": "execute_result"
    }
   ],
   "source": [
    "tensor_train_ys.shape #torch.Size([235754, 5, 14])"
   ]
  },
  {
   "cell_type": "code",
   "execution_count": null,
   "metadata": {},
   "outputs": [],
   "source": []
  }
 ],
 "metadata": {
  "colab": {
   "authorship_tag": "ABX9TyPeBIn3uPq/4TvJCOo9H7tY",
   "machine_shape": "hm",
   "name": "stimuli_util.ipynb",
   "provenance": []
  },
  "kernelspec": {
   "display_name": "Python 3",
   "language": "python",
   "name": "python3"
  },
  "language_info": {
   "codemirror_mode": {
    "name": "ipython",
    "version": 3
   },
   "file_extension": ".py",
   "mimetype": "text/x-python",
   "name": "python",
   "nbconvert_exporter": "python",
   "pygments_lexer": "ipython3",
   "version": "3.8.5"
  }
 },
 "nbformat": 4,
 "nbformat_minor": 4
}
